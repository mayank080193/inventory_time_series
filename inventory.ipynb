{
 "cells": [
  {
   "cell_type": "code",
   "execution_count": 1,
   "metadata": {
    "collapsed": true
   },
   "outputs": [],
   "source": [
    "import numpy as np\n",
    "import pandas as pd\n",
    "import tensorflow as tf\n",
    "import matplotlib.pyplot as plt\n",
    "import os"
   ]
  },
  {
   "cell_type": "code",
   "execution_count": 2,
   "metadata": {
    "scrolled": true
   },
   "outputs": [
    {
     "data": {
      "text/html": [
       "<div>\n",
       "<style>\n",
       "    .dataframe thead tr:only-child th {\n",
       "        text-align: right;\n",
       "    }\n",
       "\n",
       "    .dataframe thead th {\n",
       "        text-align: left;\n",
       "    }\n",
       "\n",
       "    .dataframe tbody tr th {\n",
       "        vertical-align: top;\n",
       "    }\n",
       "</style>\n",
       "<table border=\"1\" class=\"dataframe\">\n",
       "  <thead>\n",
       "    <tr style=\"text-align: right;\">\n",
       "      <th></th>\n",
       "      <th>Vendor</th>\n",
       "      <th>Date when delivery is needed</th>\n",
       "      <th>date of delivery</th>\n",
       "      <th>date of ordering</th>\n",
       "    </tr>\n",
       "  </thead>\n",
       "  <tbody>\n",
       "    <tr>\n",
       "      <th>0</th>\n",
       "      <td>1</td>\n",
       "      <td>2018-12-21</td>\n",
       "      <td>2018-12-19</td>\n",
       "      <td>2018-12-01</td>\n",
       "    </tr>\n",
       "    <tr>\n",
       "      <th>1</th>\n",
       "      <td>2</td>\n",
       "      <td>2019-01-13</td>\n",
       "      <td>2019-01-23</td>\n",
       "      <td>2019-01-03</td>\n",
       "    </tr>\n",
       "    <tr>\n",
       "      <th>2</th>\n",
       "      <td>1</td>\n",
       "      <td>2018-10-12</td>\n",
       "      <td>2018-10-08</td>\n",
       "      <td>2018-09-20</td>\n",
       "    </tr>\n",
       "    <tr>\n",
       "      <th>3</th>\n",
       "      <td>1</td>\n",
       "      <td>2018-11-11</td>\n",
       "      <td>2018-10-29</td>\n",
       "      <td>2018-10-11</td>\n",
       "    </tr>\n",
       "    <tr>\n",
       "      <th>4</th>\n",
       "      <td>1</td>\n",
       "      <td>2018-11-01</td>\n",
       "      <td>2018-10-19</td>\n",
       "      <td>2018-10-01</td>\n",
       "    </tr>\n",
       "    <tr>\n",
       "      <th>5</th>\n",
       "      <td>3</td>\n",
       "      <td>2018-04-06</td>\n",
       "      <td>2018-03-30</td>\n",
       "      <td>2018-03-16</td>\n",
       "    </tr>\n",
       "    <tr>\n",
       "      <th>6</th>\n",
       "      <td>3</td>\n",
       "      <td>2018-05-20</td>\n",
       "      <td>2018-05-17</td>\n",
       "      <td>2018-05-02</td>\n",
       "    </tr>\n",
       "    <tr>\n",
       "      <th>7</th>\n",
       "      <td>1</td>\n",
       "      <td>2018-03-30</td>\n",
       "      <td>2018-03-22</td>\n",
       "      <td>2018-03-04</td>\n",
       "    </tr>\n",
       "    <tr>\n",
       "      <th>8</th>\n",
       "      <td>1</td>\n",
       "      <td>2018-04-13</td>\n",
       "      <td>2018-04-12</td>\n",
       "      <td>2018-03-25</td>\n",
       "    </tr>\n",
       "    <tr>\n",
       "      <th>9</th>\n",
       "      <td>1</td>\n",
       "      <td>2018-05-22</td>\n",
       "      <td>2018-05-19</td>\n",
       "      <td>2018-05-01</td>\n",
       "    </tr>\n",
       "    <tr>\n",
       "      <th>10</th>\n",
       "      <td>1</td>\n",
       "      <td>2018-06-14</td>\n",
       "      <td>2018-05-07</td>\n",
       "      <td>2018-04-20</td>\n",
       "    </tr>\n",
       "    <tr>\n",
       "      <th>11</th>\n",
       "      <td>2</td>\n",
       "      <td>2018-07-15</td>\n",
       "      <td>2018-07-15</td>\n",
       "      <td>2018-06-25</td>\n",
       "    </tr>\n",
       "  </tbody>\n",
       "</table>\n",
       "</div>"
      ],
      "text/plain": [
       "    Vendor Date when delivery is needed date of delivery date of ordering\n",
       "0        1                   2018-12-21       2018-12-19       2018-12-01\n",
       "1        2                   2019-01-13       2019-01-23       2019-01-03\n",
       "2        1                   2018-10-12       2018-10-08       2018-09-20\n",
       "3        1                   2018-11-11       2018-10-29       2018-10-11\n",
       "4        1                   2018-11-01       2018-10-19       2018-10-01\n",
       "5        3                   2018-04-06       2018-03-30       2018-03-16\n",
       "6        3                   2018-05-20       2018-05-17       2018-05-02\n",
       "7        1                   2018-03-30       2018-03-22       2018-03-04\n",
       "8        1                   2018-04-13       2018-04-12       2018-03-25\n",
       "9        1                   2018-05-22       2018-05-19       2018-05-01\n",
       "10       1                   2018-06-14       2018-05-07       2018-04-20\n",
       "11       2                   2018-07-15       2018-07-15       2018-06-25"
      ]
     },
     "execution_count": 2,
     "metadata": {},
     "output_type": "execute_result"
    }
   ],
   "source": [
    "data=pd.read_excel('fake_data.xlsx')\n",
    "data"
   ]
  },
  {
   "cell_type": "code",
   "execution_count": 3,
   "metadata": {
    "collapsed": true
   },
   "outputs": [],
   "source": [
    "train_DN=data[\"date of delivery\"] #stores the day on which delivery is needed to be dome\n",
    "train_DN=[round(a.day+30.4*(a.month-1)) for a in train_DN] #convert it to the approximate day number of the year\n",
    "train_ADP=data['date of delivery']-data['date of ordering']#Appropriate days prior: the number of days prior to Delivery needed date that the order should have been placed\n",
    "train_ADP=[float(a.days) for a in train_ADP] # convert to float format"
   ]
  },
  {
   "cell_type": "markdown",
   "metadata": {},
   "source": [
    "# First assuming independent of vendor. Model to predict how many days prior to need should we order."
   ]
  },
  {
   "cell_type": "code",
   "execution_count": 4,
   "metadata": {
    "collapsed": true
   },
   "outputs": [],
   "source": [
    "num_epoch=15 # number of times we want to optimize"
   ]
  },
  {
   "cell_type": "markdown",
   "metadata": {},
   "source": [
    "Here we build the model\n",
    "\n",
    "Assuming it follows time series nature cyclic over a year"
   ]
  },
  {
   "cell_type": "code",
   "execution_count": 5,
   "metadata": {},
   "outputs": [],
   "source": [
    "tf.reset_default_graph()\n",
    "sess=tf.InteractiveSession()\n",
    "#varible coeffitients and input/output defined here\n",
    "x=tf.placeholder(tf.float32,shape=([None])) #input for day delivered\n",
    "z=tf.placeholder(tf.float32,shape=([None])) #input for day of placing order\n",
    "\n",
    "#variables to find by optimization\n",
    "a_s0=tf.Variable(tf.random_normal([1]))\n",
    "a_c0=tf.Variable(tf.random_normal([1]))\n",
    "aS0=tf.Variable(5*tf.random_normal([1]))\n",
    "aC0=tf.Variable(5*tf.random_normal([1]))\n",
    "a_s1=tf.Variable(tf.random_normal([1]))\n",
    "a_c1=tf.Variable(tf.random_normal([1]))\n",
    "aS1=tf.Variable(5*tf.random_normal([1]))\n",
    "aC1=tf.Variable(5*tf.random_normal([1]))\n",
    "m=tf.Variable(tf.random_normal([1]))\n",
    "c=tf.Variable(tf.random_normal([1]))\n",
    "\n",
    "# expected output for days prior for placing order\n",
    "Z=c+aS0*tf.sin(a_s0*x)+aC0*tf.cos(a_c0*x)+aS1*tf.sin(a_s1*x)+aC1*tf.cos(a_c1*x) \n",
    "\n",
    "#loss here is not regularized but should be to avoid overfit but who gives a fuck anyways\n",
    "loss=tf.reduce_mean(tf.square(Z-z))\n",
    "optimizer=tf.train.GradientDescentOptimizer(0.6)\n",
    "train=optimizer.minimize(loss)\n",
    "saver = tf.train.Saver()"
   ]
  },
  {
   "cell_type": "markdown",
   "metadata": {},
   "source": [
    "Next we run the training session"
   ]
  },
  {
   "cell_type": "code",
   "execution_count": 6,
   "metadata": {},
   "outputs": [
    {
     "name": "stdout",
     "output_type": "stream",
     "text": [
      "36.6037,   48.1185,   11.1071,   9.63764,   5.21289,   3.40445,   4.19404,   2.95459,   3.14267,   3.23316,   3.25285,   3.05503,   3.15815,   2.03019,   4.83702,   \n",
      " test variable : [ 17.92088318]\n",
      "\n",
      " Model saved in path: C:\\Users\\mayank.bijay\\Desktop\\inventory/tmp/model.ckpt\n",
      "\n",
      " optimization finished \n",
      " \n",
      " model variables saved\n"
     ]
    }
   ],
   "source": [
    "sess.run(tf.global_variables_initializer())\n",
    "for epochs in range(num_epoch):\n",
    "    sess.run(train,feed_dict={x:train_DN,z:train_ADP})\n",
    "    print(sess.run(loss,feed_dict={x:train_DN,z:train_ADP}),end=\",   \")\n",
    "\n",
    "save_path = saver.save(sess, os.getcwd()+\"/tmp/model.ckpt\")\n",
    "print(\"\\n test variable : %s\" % c.eval())\n",
    "print(\"\\n Model saved in path: %s\" % save_path)\n",
    "print(\"\\n optimization finished \\n \\n model variables saved\")\n",
    "\n"
   ]
  },
  {
   "cell_type": "markdown",
   "metadata": {
    "collapsed": true
   },
   "source": [
    "---------------------------------------------------------\n",
    "test here: we load the saved model here and evaluate the how many days earlier we should order according to our model against check_date"
   ]
  },
  {
   "cell_type": "code",
   "execution_count": 7,
   "metadata": {},
   "outputs": [
    {
     "name": "stdout",
     "output_type": "stream",
     "text": [
      "INFO:tensorflow:Restoring parameters from C:\\Users\\mayank.bijay\\Desktop\\inventory/tmp/model.ckpt\n",
      "Model restored.\n",
      "you should order 18 earlier to your required date of delivery\n"
     ]
    }
   ],
   "source": [
    "saver.restore(sess, os.getcwd()+\"/tmp/model.ckpt\")\n",
    "print(\"Model restored.\")\n",
    "check_date=[8,1]#=[8th jan]::[d,m] here we enter the date we need delivery to check how many days prior we should order\n",
    "daysPrior=Z.eval(feed_dict={x:[check_date[0]+30.4*check_date[1]]})\n",
    "print(\"you should order %s earlier to your required date of delivery\" % int(round(daysPrior[0])))"
   ]
  },
  {
   "cell_type": "code",
   "execution_count": null,
   "metadata": {},
   "outputs": [],
   "source": []
  },
  {
   "cell_type": "code",
   "execution_count": 8,
   "metadata": {},
   "outputs": [
    {
     "name": "stdout",
     "output_type": "stream",
     "text": [
      "total squared difference: 7.61868018573\n"
     ]
    }
   ],
   "source": [
    "daysPriorAll=Z.eval(feed_dict={x:train_DN})\n",
    "diff=train_ADP-daysPriorAll\n",
    "diff=np.linalg.norm(diff)\n",
    "print(\"total squared difference: %s\"%diff)"
   ]
  },
  {
   "cell_type": "code",
   "execution_count": null,
   "metadata": {
    "collapsed": true
   },
   "outputs": [],
   "source": []
  },
  {
   "cell_type": "code",
   "execution_count": null,
   "metadata": {
    "collapsed": true
   },
   "outputs": [],
   "source": []
  },
  {
   "cell_type": "code",
   "execution_count": null,
   "metadata": {
    "collapsed": true
   },
   "outputs": [],
   "source": []
  },
  {
   "cell_type": "code",
   "execution_count": null,
   "metadata": {
    "collapsed": true
   },
   "outputs": [],
   "source": []
  }
 ],
 "metadata": {
  "kernelspec": {
   "display_name": "Python 3",
   "language": "python",
   "name": "python3"
  },
  "language_info": {
   "codemirror_mode": {
    "name": "ipython",
    "version": 3
   },
   "file_extension": ".py",
   "mimetype": "text/x-python",
   "name": "python",
   "nbconvert_exporter": "python",
   "pygments_lexer": "ipython3",
   "version": "3.6.3"
  }
 },
 "nbformat": 4,
 "nbformat_minor": 2
}
